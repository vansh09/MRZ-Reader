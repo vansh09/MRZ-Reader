{
 "cells": [
  {
   "cell_type": "code",
   "execution_count": null,
   "metadata": {},
   "outputs": [],
   "source": [
    "from wand.image import Image\n",
    "import passporteye\n",
    "import os"
   ]
  },
  {
   "cell_type": "code",
   "execution_count": null,
   "metadata": {},
   "outputs": [],
   "source": [
    "class Date:\n",
    "    def __init__(self, passport_date):\n",
    "        self.day = passport_date[4:6]\n",
    "        self.month = passport_date[2:4]\n",
    "        self.year = passport_date[0:2]\n",
    "        self.date_format = self.day + '/' + self.month + '/' + self.year"
   ]
  },
  {
   "cell_type": "code",
   "execution_count": null,
   "metadata": {},
   "outputs": [],
   "source": [
    "all_passports_data = []\n",
    "\n",
    "# path of directory of passports should be entered here\n",
    "file_paths = os.listdir('Passports') \n",
    "\n",
    "i = 0  # to iterate through each file\n",
    "j = 0  # to iterate through each page in pdfs"
   ]
  },
  {
   "cell_type": "code",
   "execution_count": null,
   "metadata": {},
   "outputs": [],
   "source": [
    "while i < len(file_paths):\n",
    "    file_path = 'Passports\\\\' + file_paths[i]\n",
    "\n",
    "    if file_path.endswith('.pdf'):\n",
    "        pdf = Image(filename=file_path, resolution=300)\n",
    "        pdfImage = pdf.convert('jpg')  # contains list of jpgs of each page in pdf in sequence attribute\n",
    "        \n",
    "        if j < len(pdfImage.sequence):\n",
    "            page = Image(image=pdfImage.sequence[j])\n",
    "            page.save(filename=str(j)+'.jpg')  # creating a copy of the pdf page as jpg\n",
    "            # assigning the location of newly created file to file_path\n",
    "            file_path = str(j)+'.jpg'\n",
    "            j += 1\n",
    "        else:\n",
    "            i += 1\n",
    "            j = 0\n",
    "            continue\n",
    "    else:\n",
    "        i += 1\n",
    "\n",
    "    try:\n",
    "        raw_data = passporteye.mrz.text.MRZ.to_dict(passporteye.read_mrz(file_path))\n",
    "    except AttributeError and ValueError:\n",
    "        print('Invalid Passport')\n",
    "    else:\n",
    "        my_data = {\n",
    "            'Full Name': '',\n",
    "            'Passport Number': '',\n",
    "            'Date of Birth': Date(raw_data['date_of_birth']).date_format,\n",
    "            'Country Code': raw_data['country'],\n",
    "            'Nationality': raw_data['nationality'],\n",
    "            'Gender': '',\n",
    "            'Expiry Date': Date(raw_data['expiration_date']).date_format\n",
    "        }\n",
    "        # accurately adding full name to my_data\n",
    "        my_data['Full Name'] = raw_data['names'].replace('KKK', '').strip() + ' ' + raw_data['surname'].replace('KKK', '').strip()\n",
    "        \n",
    "        # accurately adding passport number to my_data\n",
    "        for char in raw_data['number']:\n",
    "            if char.isalnum():\n",
    "                my_data['Passport Number'] += char\n",
    "        \n",
    "        # accurately adding gender to my_data\n",
    "        if raw_data['sex'] is 'M' or raw_data['sex'] is 'F':\n",
    "            my_data['Gender'] = raw_data['sex']\n",
    "        else:\n",
    "            my_data['Gender'] = 'M'\n",
    "            \n",
    "        all_passports_data.append(my_data)\n",
    "        \n",
    "    if j > 0:  # checking if current file in file_paths is a pdf\n",
    "        os.remove(file_path)  # deleting copy of pdf page"
   ]
  },
  {
   "cell_type": "code",
   "execution_count": null,
   "metadata": {},
   "outputs": [],
   "source": [
    "print(all_passports_data)"
   ]
  }
 ],
 "metadata": {
  "kernelspec": {
   "display_name": "Python 3",
   "language": "python",
   "name": "python3"
  },
  "language_info": {
   "codemirror_mode": {
    "name": "ipython",
    "version": 3
   },
   "file_extension": ".py",
   "mimetype": "text/x-python",
   "name": "python",
   "nbconvert_exporter": "python",
   "pygments_lexer": "ipython3",
   "version": "3.7.3"
  }
 },
 "nbformat": 4,
 "nbformat_minor": 2
}
